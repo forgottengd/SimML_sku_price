{
 "cells": [
  {
   "cell_type": "markdown",
   "id": "a2ba0c6f",
   "metadata": {},
   "source": [
    "### Импортирую библиотеки"
   ]
  },
  {
   "cell_type": "code",
   "execution_count": 1,
   "id": "c9cf036a",
   "metadata": {},
   "outputs": [
    {
     "name": "stdout",
     "output_type": "stream",
     "text": [
      "Pandas version: 2.2.0\n",
      "Numpy version: 1.26.4\n"
     ]
    }
   ],
   "source": [
    "import pandas as pd\n",
    "import numpy as np\n",
    "import matplotlib.pyplot as plt\n",
    "\n",
    "print(f\"Pandas version: {pd.__version__}\")\n",
    "print(f\"Numpy version: {np.__version__}\")"
   ]
  },
  {
   "cell_type": "markdown",
   "id": "993de0e1",
   "metadata": {},
   "source": [
    "### Загрузим данные, посмотрим на их форму и значения"
   ]
  },
  {
   "cell_type": "code",
   "execution_count": 2,
   "id": "8b0ca88a",
   "metadata": {},
   "outputs": [
    {
     "name": "stdout",
     "output_type": "stream",
     "text": [
      "(245, 4)\n"
     ]
    },
    {
     "data": {
      "text/html": [
       "<div>\n",
       "<style scoped>\n",
       "    .dataframe tbody tr th:only-of-type {\n",
       "        vertical-align: middle;\n",
       "    }\n",
       "\n",
       "    .dataframe tbody tr th {\n",
       "        vertical-align: top;\n",
       "    }\n",
       "\n",
       "    .dataframe thead th {\n",
       "        text-align: right;\n",
       "    }\n",
       "</style>\n",
       "<table border=\"1\" class=\"dataframe\">\n",
       "  <thead>\n",
       "    <tr style=\"text-align: right;\">\n",
       "      <th></th>\n",
       "      <th>dates</th>\n",
       "      <th>SKU</th>\n",
       "      <th>price_per_sku</th>\n",
       "      <th>num_purchases</th>\n",
       "    </tr>\n",
       "  </thead>\n",
       "  <tbody>\n",
       "    <tr>\n",
       "      <th>0</th>\n",
       "      <td>2018-04-20</td>\n",
       "      <td>32950</td>\n",
       "      <td>422.975</td>\n",
       "      <td>3</td>\n",
       "    </tr>\n",
       "    <tr>\n",
       "      <th>1</th>\n",
       "      <td>2018-04-24</td>\n",
       "      <td>32950</td>\n",
       "      <td>429.275</td>\n",
       "      <td>3</td>\n",
       "    </tr>\n",
       "    <tr>\n",
       "      <th>2</th>\n",
       "      <td>2018-04-27</td>\n",
       "      <td>32950</td>\n",
       "      <td>435.100</td>\n",
       "      <td>3</td>\n",
       "    </tr>\n",
       "    <tr>\n",
       "      <th>3</th>\n",
       "      <td>2018-04-30</td>\n",
       "      <td>32950</td>\n",
       "      <td>NaN</td>\n",
       "      <td>1</td>\n",
       "    </tr>\n",
       "    <tr>\n",
       "      <th>4</th>\n",
       "      <td>2018-05-03</td>\n",
       "      <td>32950</td>\n",
       "      <td>440.950</td>\n",
       "      <td>2</td>\n",
       "    </tr>\n",
       "  </tbody>\n",
       "</table>\n",
       "</div>"
      ],
      "text/plain": [
       "        dates    SKU  price_per_sku  num_purchases\n",
       "0  2018-04-20  32950        422.975              3\n",
       "1  2018-04-24  32950        429.275              3\n",
       "2  2018-04-27  32950        435.100              3\n",
       "3  2018-04-30  32950            NaN              1\n",
       "4  2018-05-03  32950        440.950              2"
      ]
     },
     "execution_count": 2,
     "metadata": {},
     "output_type": "execute_result"
    }
   ],
   "source": [
    "group1 = pd.read_csv(\"first_group_sku.csv\")\n",
    "print(group1.shape)\n",
    "group1.head()"
   ]
  },
  {
   "cell_type": "code",
   "execution_count": 3,
   "id": "25a1271c",
   "metadata": {},
   "outputs": [
    {
     "name": "stdout",
     "output_type": "stream",
     "text": [
      "(3749, 4)\n"
     ]
    },
    {
     "data": {
      "text/html": [
       "<div>\n",
       "<style scoped>\n",
       "    .dataframe tbody tr th:only-of-type {\n",
       "        vertical-align: middle;\n",
       "    }\n",
       "\n",
       "    .dataframe tbody tr th {\n",
       "        vertical-align: top;\n",
       "    }\n",
       "\n",
       "    .dataframe thead th {\n",
       "        text-align: right;\n",
       "    }\n",
       "</style>\n",
       "<table border=\"1\" class=\"dataframe\">\n",
       "  <thead>\n",
       "    <tr style=\"text-align: right;\">\n",
       "      <th></th>\n",
       "      <th>dates</th>\n",
       "      <th>SKU</th>\n",
       "      <th>price_per_sku</th>\n",
       "      <th>num_purchases</th>\n",
       "    </tr>\n",
       "  </thead>\n",
       "  <tbody>\n",
       "    <tr>\n",
       "      <th>0</th>\n",
       "      <td>2018-04-19</td>\n",
       "      <td>10334</td>\n",
       "      <td>92.890</td>\n",
       "      <td>10</td>\n",
       "    </tr>\n",
       "    <tr>\n",
       "      <th>1</th>\n",
       "      <td>2018-04-20</td>\n",
       "      <td>10334</td>\n",
       "      <td>92.890</td>\n",
       "      <td>11</td>\n",
       "    </tr>\n",
       "    <tr>\n",
       "      <th>2</th>\n",
       "      <td>2018-04-21</td>\n",
       "      <td>10334</td>\n",
       "      <td>92.890</td>\n",
       "      <td>10</td>\n",
       "    </tr>\n",
       "    <tr>\n",
       "      <th>3</th>\n",
       "      <td>2018-04-22</td>\n",
       "      <td>10334</td>\n",
       "      <td>92.890</td>\n",
       "      <td>12</td>\n",
       "    </tr>\n",
       "    <tr>\n",
       "      <th>4</th>\n",
       "      <td>2018-04-23</td>\n",
       "      <td>10334</td>\n",
       "      <td>92.456</td>\n",
       "      <td>10</td>\n",
       "    </tr>\n",
       "  </tbody>\n",
       "</table>\n",
       "</div>"
      ],
      "text/plain": [
       "        dates    SKU  price_per_sku  num_purchases\n",
       "0  2018-04-19  10334         92.890             10\n",
       "1  2018-04-20  10334         92.890             11\n",
       "2  2018-04-21  10334         92.890             10\n",
       "3  2018-04-22  10334         92.890             12\n",
       "4  2018-04-23  10334         92.456             10"
      ]
     },
     "execution_count": 3,
     "metadata": {},
     "output_type": "execute_result"
    }
   ],
   "source": [
    "group2 = pd.read_csv(\"second_group_sku.csv\")\n",
    "print(group2.shape)\n",
    "group2.head()"
   ]
  },
  {
   "cell_type": "code",
   "execution_count": 4,
   "id": "7ff2a108",
   "metadata": {},
   "outputs": [
    {
     "name": "stdout",
     "output_type": "stream",
     "text": [
      "(2781, 4)\n"
     ]
    },
    {
     "data": {
      "text/html": [
       "<div>\n",
       "<style scoped>\n",
       "    .dataframe tbody tr th:only-of-type {\n",
       "        vertical-align: middle;\n",
       "    }\n",
       "\n",
       "    .dataframe tbody tr th {\n",
       "        vertical-align: top;\n",
       "    }\n",
       "\n",
       "    .dataframe thead th {\n",
       "        text-align: right;\n",
       "    }\n",
       "</style>\n",
       "<table border=\"1\" class=\"dataframe\">\n",
       "  <thead>\n",
       "    <tr style=\"text-align: right;\">\n",
       "      <th></th>\n",
       "      <th>dates</th>\n",
       "      <th>SKU</th>\n",
       "      <th>price_per_sku</th>\n",
       "      <th>num_purchases</th>\n",
       "    </tr>\n",
       "  </thead>\n",
       "  <tbody>\n",
       "    <tr>\n",
       "      <th>0</th>\n",
       "      <td>2018-04-22</td>\n",
       "      <td>11050</td>\n",
       "      <td>101.575</td>\n",
       "      <td>10</td>\n",
       "    </tr>\n",
       "    <tr>\n",
       "      <th>1</th>\n",
       "      <td>2018-04-23</td>\n",
       "      <td>11050</td>\n",
       "      <td>101.344</td>\n",
       "      <td>9</td>\n",
       "    </tr>\n",
       "    <tr>\n",
       "      <th>2</th>\n",
       "      <td>2018-04-25</td>\n",
       "      <td>11050</td>\n",
       "      <td>101.344</td>\n",
       "      <td>9</td>\n",
       "    </tr>\n",
       "    <tr>\n",
       "      <th>3</th>\n",
       "      <td>2018-04-26</td>\n",
       "      <td>11050</td>\n",
       "      <td>101.344</td>\n",
       "      <td>9</td>\n",
       "    </tr>\n",
       "    <tr>\n",
       "      <th>4</th>\n",
       "      <td>2018-04-27</td>\n",
       "      <td>11050</td>\n",
       "      <td>101.344</td>\n",
       "      <td>10</td>\n",
       "    </tr>\n",
       "  </tbody>\n",
       "</table>\n",
       "</div>"
      ],
      "text/plain": [
       "        dates    SKU  price_per_sku  num_purchases\n",
       "0  2018-04-22  11050        101.575             10\n",
       "1  2018-04-23  11050        101.344              9\n",
       "2  2018-04-25  11050        101.344              9\n",
       "3  2018-04-26  11050        101.344              9\n",
       "4  2018-04-27  11050        101.344             10"
      ]
     },
     "execution_count": 4,
     "metadata": {},
     "output_type": "execute_result"
    }
   ],
   "source": [
    "group3 = pd.read_csv(\"third_group_sku.csv\")\n",
    "print(group3.shape)\n",
    "group3.head()"
   ]
  },
  {
   "cell_type": "code",
   "execution_count": 5,
   "id": "1af51c34",
   "metadata": {},
   "outputs": [
    {
     "name": "stdout",
     "output_type": "stream",
     "text": [
      "(175, 3)\n"
     ]
    },
    {
     "data": {
      "text/html": [
       "<div>\n",
       "<style scoped>\n",
       "    .dataframe tbody tr th:only-of-type {\n",
       "        vertical-align: middle;\n",
       "    }\n",
       "\n",
       "    .dataframe tbody tr th {\n",
       "        vertical-align: top;\n",
       "    }\n",
       "\n",
       "    .dataframe thead th {\n",
       "        text-align: right;\n",
       "    }\n",
       "</style>\n",
       "<table border=\"1\" class=\"dataframe\">\n",
       "  <thead>\n",
       "    <tr style=\"text-align: right;\">\n",
       "      <th></th>\n",
       "      <th>dates</th>\n",
       "      <th>SKU</th>\n",
       "      <th>price_per_sku</th>\n",
       "    </tr>\n",
       "  </thead>\n",
       "  <tbody>\n",
       "    <tr>\n",
       "      <th>0</th>\n",
       "      <td>2019-04-10</td>\n",
       "      <td>32950</td>\n",
       "      <td>450.200</td>\n",
       "    </tr>\n",
       "    <tr>\n",
       "      <th>1</th>\n",
       "      <td>2019-04-11</td>\n",
       "      <td>32950</td>\n",
       "      <td>449.925</td>\n",
       "    </tr>\n",
       "    <tr>\n",
       "      <th>2</th>\n",
       "      <td>2019-04-12</td>\n",
       "      <td>32950</td>\n",
       "      <td>447.575</td>\n",
       "    </tr>\n",
       "    <tr>\n",
       "      <th>3</th>\n",
       "      <td>2019-04-13</td>\n",
       "      <td>32950</td>\n",
       "      <td>448.400</td>\n",
       "    </tr>\n",
       "    <tr>\n",
       "      <th>4</th>\n",
       "      <td>2019-04-16</td>\n",
       "      <td>32950</td>\n",
       "      <td>446.525</td>\n",
       "    </tr>\n",
       "  </tbody>\n",
       "</table>\n",
       "</div>"
      ],
      "text/plain": [
       "        dates    SKU  price_per_sku\n",
       "0  2019-04-10  32950        450.200\n",
       "1  2019-04-11  32950        449.925\n",
       "2  2019-04-12  32950        447.575\n",
       "3  2019-04-13  32950        448.400\n",
       "4  2019-04-16  32950        446.525"
      ]
     },
     "execution_count": 5,
     "metadata": {},
     "output_type": "execute_result"
    }
   ],
   "source": [
    "answer = pd.read_csv(\"answer.csv\")\n",
    "print(answer.shape)\n",
    "answer.head()"
   ]
  },
  {
   "cell_type": "markdown",
   "id": "4217c2e2",
   "metadata": {},
   "source": [
    "### Видели что были NaN значения в первом файле, посмотри на них подробнее"
   ]
  },
  {
   "cell_type": "code",
   "execution_count": 6,
   "id": "3c19a4ab",
   "metadata": {},
   "outputs": [
    {
     "data": {
      "text/plain": [
       "dates             0\n",
       "SKU               0\n",
       "price_per_sku    76\n",
       "num_purchases     0\n",
       "dtype: int64"
      ]
     },
     "execution_count": 6,
     "metadata": {},
     "output_type": "execute_result"
    }
   ],
   "source": [
    "group1.isna().sum()"
   ]
  },
  {
   "cell_type": "code",
   "execution_count": 7,
   "id": "44a1994f",
   "metadata": {
    "scrolled": true
   },
   "outputs": [
    {
     "data": {
      "text/plain": [
       "SKU\n",
       "32950    44\n",
       "78833    32\n",
       "Name: count, dtype: int64"
      ]
     },
     "execution_count": 7,
     "metadata": {},
     "output_type": "execute_result"
    }
   ],
   "source": [
    "group1[group1.isna().any(axis=1)].SKU.value_counts(dropna=False)"
   ]
  },
  {
   "cell_type": "code",
   "execution_count": 8,
   "id": "4a921fed",
   "metadata": {},
   "outputs": [
    {
     "data": {
      "text/plain": [
       "dates            0\n",
       "SKU              0\n",
       "price_per_sku    0\n",
       "num_purchases    0\n",
       "dtype: int64"
      ]
     },
     "execution_count": 8,
     "metadata": {},
     "output_type": "execute_result"
    }
   ],
   "source": [
    "group2.isna().sum()"
   ]
  },
  {
   "cell_type": "code",
   "execution_count": 9,
   "id": "7e6d6d3d",
   "metadata": {},
   "outputs": [
    {
     "data": {
      "text/plain": [
       "dates            0\n",
       "SKU              0\n",
       "price_per_sku    0\n",
       "num_purchases    0\n",
       "dtype: int64"
      ]
     },
     "execution_count": 9,
     "metadata": {},
     "output_type": "execute_result"
    }
   ],
   "source": [
    "group3.isna().sum()"
   ]
  },
  {
   "cell_type": "markdown",
   "id": "10b4b23d",
   "metadata": {},
   "source": [
    "### Заполним пропущенные значения предыдущим"
   ]
  },
  {
   "cell_type": "code",
   "execution_count": 10,
   "id": "0755e6d2",
   "metadata": {},
   "outputs": [],
   "source": [
    "group1.ffill(inplace=True)"
   ]
  },
  {
   "cell_type": "markdown",
   "id": "bf0d9b5d",
   "metadata": {},
   "source": [
    "### Объединим данные"
   ]
  },
  {
   "cell_type": "code",
   "execution_count": 11,
   "id": "76e347c3",
   "metadata": {},
   "outputs": [
    {
     "name": "stdout",
     "output_type": "stream",
     "text": [
      "(6775, 4)\n"
     ]
    },
    {
     "data": {
      "text/html": [
       "<div>\n",
       "<style scoped>\n",
       "    .dataframe tbody tr th:only-of-type {\n",
       "        vertical-align: middle;\n",
       "    }\n",
       "\n",
       "    .dataframe tbody tr th {\n",
       "        vertical-align: top;\n",
       "    }\n",
       "\n",
       "    .dataframe thead th {\n",
       "        text-align: right;\n",
       "    }\n",
       "</style>\n",
       "<table border=\"1\" class=\"dataframe\">\n",
       "  <thead>\n",
       "    <tr style=\"text-align: right;\">\n",
       "      <th></th>\n",
       "      <th>dates</th>\n",
       "      <th>SKU</th>\n",
       "      <th>price_per_sku</th>\n",
       "      <th>num_purchases</th>\n",
       "    </tr>\n",
       "  </thead>\n",
       "  <tbody>\n",
       "    <tr>\n",
       "      <th>1048</th>\n",
       "      <td>2018-01-17</td>\n",
       "      <td>60870</td>\n",
       "      <td>109.182</td>\n",
       "      <td>7</td>\n",
       "    </tr>\n",
       "    <tr>\n",
       "      <th>1049</th>\n",
       "      <td>2018-01-18</td>\n",
       "      <td>60870</td>\n",
       "      <td>109.182</td>\n",
       "      <td>7</td>\n",
       "    </tr>\n",
       "    <tr>\n",
       "      <th>1050</th>\n",
       "      <td>2018-01-19</td>\n",
       "      <td>60870</td>\n",
       "      <td>109.182</td>\n",
       "      <td>8</td>\n",
       "    </tr>\n",
       "    <tr>\n",
       "      <th>1051</th>\n",
       "      <td>2018-01-21</td>\n",
       "      <td>60870</td>\n",
       "      <td>109.182</td>\n",
       "      <td>7</td>\n",
       "    </tr>\n",
       "    <tr>\n",
       "      <th>1052</th>\n",
       "      <td>2018-01-22</td>\n",
       "      <td>60870</td>\n",
       "      <td>109.315</td>\n",
       "      <td>8</td>\n",
       "    </tr>\n",
       "    <tr>\n",
       "      <th>...</th>\n",
       "      <td>...</td>\n",
       "      <td>...</td>\n",
       "      <td>...</td>\n",
       "      <td>...</td>\n",
       "    </tr>\n",
       "    <tr>\n",
       "      <th>1911</th>\n",
       "      <td>2019-12-23</td>\n",
       "      <td>80631</td>\n",
       "      <td>92.257</td>\n",
       "      <td>5</td>\n",
       "    </tr>\n",
       "    <tr>\n",
       "      <th>2350</th>\n",
       "      <td>2019-12-23</td>\n",
       "      <td>84395</td>\n",
       "      <td>140.815</td>\n",
       "      <td>10</td>\n",
       "    </tr>\n",
       "    <tr>\n",
       "      <th>1321</th>\n",
       "      <td>2019-12-23</td>\n",
       "      <td>38767</td>\n",
       "      <td>74.536</td>\n",
       "      <td>7</td>\n",
       "    </tr>\n",
       "    <tr>\n",
       "      <th>782</th>\n",
       "      <td>2019-12-24</td>\n",
       "      <td>49661</td>\n",
       "      <td>165.978</td>\n",
       "      <td>8</td>\n",
       "    </tr>\n",
       "    <tr>\n",
       "      <th>445</th>\n",
       "      <td>2019-12-24</td>\n",
       "      <td>10334</td>\n",
       "      <td>101.094</td>\n",
       "      <td>9</td>\n",
       "    </tr>\n",
       "  </tbody>\n",
       "</table>\n",
       "<p>6775 rows × 4 columns</p>\n",
       "</div>"
      ],
      "text/plain": [
       "           dates    SKU  price_per_sku  num_purchases\n",
       "1048  2018-01-17  60870        109.182              7\n",
       "1049  2018-01-18  60870        109.182              7\n",
       "1050  2018-01-19  60870        109.182              8\n",
       "1051  2018-01-21  60870        109.182              7\n",
       "1052  2018-01-22  60870        109.315              8\n",
       "...          ...    ...            ...            ...\n",
       "1911  2019-12-23  80631         92.257              5\n",
       "2350  2019-12-23  84395        140.815             10\n",
       "1321  2019-12-23  38767         74.536              7\n",
       "782   2019-12-24  49661        165.978              8\n",
       "445   2019-12-24  10334        101.094              9\n",
       "\n",
       "[6775 rows x 4 columns]"
      ]
     },
     "execution_count": 11,
     "metadata": {},
     "output_type": "execute_result"
    }
   ],
   "source": [
    "groups = pd.concat([group1, group2, group3])\n",
    "print(groups.shape)\n",
    "groups.sort_values('dates')"
   ]
  },
  {
   "cell_type": "markdown",
   "id": "84516691",
   "metadata": {},
   "source": [
    "### Проверим тип данных в колонках"
   ]
  },
  {
   "cell_type": "code",
   "execution_count": 12,
   "id": "1ad7e034",
   "metadata": {},
   "outputs": [
    {
     "data": {
      "text/plain": [
       "dates             object\n",
       "SKU                int64\n",
       "price_per_sku    float64\n",
       "num_purchases      int64\n",
       "dtype: object"
      ]
     },
     "execution_count": 12,
     "metadata": {},
     "output_type": "execute_result"
    }
   ],
   "source": [
    "groups.dtypes"
   ]
  },
  {
   "cell_type": "markdown",
   "id": "1aca66e7",
   "metadata": {},
   "source": [
    "### Преобразуем дату"
   ]
  },
  {
   "cell_type": "code",
   "execution_count": 13,
   "id": "3f9040d4",
   "metadata": {},
   "outputs": [
    {
     "data": {
      "text/plain": [
       "dates            datetime64[ns]\n",
       "SKU                       int64\n",
       "price_per_sku           float64\n",
       "num_purchases             int64\n",
       "dtype: object"
      ]
     },
     "execution_count": 13,
     "metadata": {},
     "output_type": "execute_result"
    }
   ],
   "source": [
    "groups['dates'] = groups['dates'].astype(\"datetime64[ns]\")\n",
    "groups.dtypes"
   ]
  },
  {
   "cell_type": "markdown",
   "id": "5017a7d3",
   "metadata": {},
   "source": [
    "### Посмотрим на распределение даты"
   ]
  },
  {
   "cell_type": "code",
   "execution_count": 14,
   "id": "6ba6e078",
   "metadata": {},
   "outputs": [
    {
     "data": {
      "image/png": "[encoded data removed]",
      "text/plain": [
       "<Figure size 1000x600 with 1 Axes>"
      ]
     },
     "metadata": {},
     "output_type": "display_data"
    }
   ],
   "source": [
    "plt.figure(figsize=(10, 6))\n",
    "date_counts = groups['dates'].dt.to_period('M').value_counts().sort_index()\n",
    "plt.bar(date_counts.index.astype(str), date_counts.values)\n",
    "plt.xticks(rotation=45)\n",
    "plt.show()"
   ]
  },
  {
   "cell_type": "markdown",
   "id": "e0324723",
   "metadata": {},
   "source": [
    "### У нас большое количество записей на почти все месяцы, и имеет смысл достать из даты фичи"
   ]
  },
  {
   "cell_type": "code",
   "execution_count": 15,
   "id": "3f268e1a",
   "metadata": {},
   "outputs": [
    {
     "data": {
      "text/html": [
       "<div>\n",
       "<style scoped>\n",
       "    .dataframe tbody tr th:only-of-type {\n",
       "        vertical-align: middle;\n",
       "    }\n",
       "\n",
       "    .dataframe tbody tr th {\n",
       "        vertical-align: top;\n",
       "    }\n",
       "\n",
       "    .dataframe thead th {\n",
       "        text-align: right;\n",
       "    }\n",
       "</style>\n",
       "<table border=\"1\" class=\"dataframe\">\n",
       "  <thead>\n",
       "    <tr style=\"text-align: right;\">\n",
       "      <th></th>\n",
       "      <th>dates</th>\n",
       "      <th>SKU</th>\n",
       "      <th>price_per_sku</th>\n",
       "      <th>num_purchases</th>\n",
       "      <th>year</th>\n",
       "      <th>month</th>\n",
       "      <th>week</th>\n",
       "      <th>dow</th>\n",
       "    </tr>\n",
       "  </thead>\n",
       "  <tbody>\n",
       "    <tr>\n",
       "      <th>0</th>\n",
       "      <td>2018-04-20</td>\n",
       "      <td>32950</td>\n",
       "      <td>422.975</td>\n",
       "      <td>3</td>\n",
       "      <td>2018</td>\n",
       "      <td>4</td>\n",
       "      <td>16</td>\n",
       "      <td>4</td>\n",
       "    </tr>\n",
       "    <tr>\n",
       "      <th>1</th>\n",
       "      <td>2018-04-24</td>\n",
       "      <td>32950</td>\n",
       "      <td>429.275</td>\n",
       "      <td>3</td>\n",
       "      <td>2018</td>\n",
       "      <td>4</td>\n",
       "      <td>17</td>\n",
       "      <td>1</td>\n",
       "    </tr>\n",
       "    <tr>\n",
       "      <th>2</th>\n",
       "      <td>2018-04-27</td>\n",
       "      <td>32950</td>\n",
       "      <td>435.100</td>\n",
       "      <td>3</td>\n",
       "      <td>2018</td>\n",
       "      <td>4</td>\n",
       "      <td>17</td>\n",
       "      <td>4</td>\n",
       "    </tr>\n",
       "    <tr>\n",
       "      <th>3</th>\n",
       "      <td>2018-04-30</td>\n",
       "      <td>32950</td>\n",
       "      <td>435.100</td>\n",
       "      <td>1</td>\n",
       "      <td>2018</td>\n",
       "      <td>4</td>\n",
       "      <td>18</td>\n",
       "      <td>0</td>\n",
       "    </tr>\n",
       "    <tr>\n",
       "      <th>4</th>\n",
       "      <td>2018-05-03</td>\n",
       "      <td>32950</td>\n",
       "      <td>440.950</td>\n",
       "      <td>2</td>\n",
       "      <td>2018</td>\n",
       "      <td>5</td>\n",
       "      <td>18</td>\n",
       "      <td>3</td>\n",
       "    </tr>\n",
       "  </tbody>\n",
       "</table>\n",
       "</div>"
      ],
      "text/plain": [
       "       dates    SKU  price_per_sku  num_purchases  year  month  week  dow\n",
       "0 2018-04-20  32950        422.975              3  2018      4    16    4\n",
       "1 2018-04-24  32950        429.275              3  2018      4    17    1\n",
       "2 2018-04-27  32950        435.100              3  2018      4    17    4\n",
       "3 2018-04-30  32950        435.100              1  2018      4    18    0\n",
       "4 2018-05-03  32950        440.950              2  2018      5    18    3"
      ]
     },
     "execution_count": 15,
     "metadata": {},
     "output_type": "execute_result"
    }
   ],
   "source": [
    "groups['year'] = groups['dates'].dt.year\n",
    "groups['month'] = groups['dates'].dt.month\n",
    "groups['week'] = groups['dates'].dt.isocalendar().week\n",
    "groups['dow'] = groups['dates'].dt.dayofweek\n",
    "groups.head()"
   ]
  },
  {
   "cell_type": "code",
   "execution_count": 16,
   "id": "51909e62",
   "metadata": {},
   "outputs": [
    {
     "data": {
      "text/html": [
       "<div>\n",
       "<style scoped>\n",
       "    .dataframe tbody tr th:only-of-type {\n",
       "        vertical-align: middle;\n",
       "    }\n",
       "\n",
       "    .dataframe tbody tr th {\n",
       "        vertical-align: top;\n",
       "    }\n",
       "\n",
       "    .dataframe thead th {\n",
       "        text-align: right;\n",
       "    }\n",
       "</style>\n",
       "<table border=\"1\" class=\"dataframe\">\n",
       "  <thead>\n",
       "    <tr style=\"text-align: right;\">\n",
       "      <th></th>\n",
       "      <th>dates</th>\n",
       "      <th>SKU</th>\n",
       "      <th>price_per_sku</th>\n",
       "      <th>year</th>\n",
       "      <th>month</th>\n",
       "      <th>week</th>\n",
       "      <th>dow</th>\n",
       "    </tr>\n",
       "  </thead>\n",
       "  <tbody>\n",
       "    <tr>\n",
       "      <th>0</th>\n",
       "      <td>2019-04-10</td>\n",
       "      <td>32950</td>\n",
       "      <td>450.200</td>\n",
       "      <td>2019</td>\n",
       "      <td>4</td>\n",
       "      <td>15</td>\n",
       "      <td>2</td>\n",
       "    </tr>\n",
       "    <tr>\n",
       "      <th>1</th>\n",
       "      <td>2019-04-11</td>\n",
       "      <td>32950</td>\n",
       "      <td>449.925</td>\n",
       "      <td>2019</td>\n",
       "      <td>4</td>\n",
       "      <td>15</td>\n",
       "      <td>3</td>\n",
       "    </tr>\n",
       "    <tr>\n",
       "      <th>2</th>\n",
       "      <td>2019-04-12</td>\n",
       "      <td>32950</td>\n",
       "      <td>447.575</td>\n",
       "      <td>2019</td>\n",
       "      <td>4</td>\n",
       "      <td>15</td>\n",
       "      <td>4</td>\n",
       "    </tr>\n",
       "    <tr>\n",
       "      <th>3</th>\n",
       "      <td>2019-04-13</td>\n",
       "      <td>32950</td>\n",
       "      <td>448.400</td>\n",
       "      <td>2019</td>\n",
       "      <td>4</td>\n",
       "      <td>15</td>\n",
       "      <td>5</td>\n",
       "    </tr>\n",
       "    <tr>\n",
       "      <th>4</th>\n",
       "      <td>2019-04-16</td>\n",
       "      <td>32950</td>\n",
       "      <td>446.525</td>\n",
       "      <td>2019</td>\n",
       "      <td>4</td>\n",
       "      <td>16</td>\n",
       "      <td>1</td>\n",
       "    </tr>\n",
       "  </tbody>\n",
       "</table>\n",
       "</div>"
      ],
      "text/plain": [
       "       dates    SKU  price_per_sku  year  month  week  dow\n",
       "0 2019-04-10  32950        450.200  2019      4    15    2\n",
       "1 2019-04-11  32950        449.925  2019      4    15    3\n",
       "2 2019-04-12  32950        447.575  2019      4    15    4\n",
       "3 2019-04-13  32950        448.400  2019      4    15    5\n",
       "4 2019-04-16  32950        446.525  2019      4    16    1"
      ]
     },
     "execution_count": 16,
     "metadata": {},
     "output_type": "execute_result"
    }
   ],
   "source": [
    "answer['dates'] = answer['dates'].astype(\"datetime64[ns]\")\n",
    "answer['year'] = answer['dates'].dt.year\n",
    "answer['month'] = answer['dates'].dt.month\n",
    "answer['week'] = answer['dates'].dt.isocalendar().week\n",
    "answer['dow'] = answer['dates'].dt.dayofweek\n",
    "answer.head()"
   ]
  },
  {
   "cell_type": "markdown",
   "id": "731d0383",
   "metadata": {},
   "source": [
    "### Попробуем вначале предсказать с помощью обычной линейной регрессии. Также загрузим функции оценки r2 и rmse"
   ]
  },
  {
   "cell_type": "code",
   "execution_count": 17,
   "id": "62abfc43",
   "metadata": {},
   "outputs": [],
   "source": [
    "from sklearn.linear_model import LinearRegression\n",
    "from sklearn.metrics import r2_score\n",
    "from sklearn.metrics import root_mean_squared_error"
   ]
  },
  {
   "cell_type": "markdown",
   "id": "e2f790af",
   "metadata": {},
   "source": [
    "### Так как SKU товара является по сути категорией, посмотрим на количество уникальных значений, и если оно не слишком велико, применим One-Hot Encoding"
   ]
  },
  {
   "cell_type": "code",
   "execution_count": 18,
   "id": "241c4f6a",
   "metadata": {},
   "outputs": [
    {
     "data": {
      "text/plain": [
       "25"
      ]
     },
     "execution_count": 18,
     "metadata": {},
     "output_type": "execute_result"
    }
   ],
   "source": [
    "groups.SKU.nunique()"
   ]
  },
  {
   "cell_type": "code",
   "execution_count": 19,
   "id": "ffe7ba8f",
   "metadata": {},
   "outputs": [
    {
     "data": {
      "text/html": [
       "<div>\n",
       "<style scoped>\n",
       "    .dataframe tbody tr th:only-of-type {\n",
       "        vertical-align: middle;\n",
       "    }\n",
       "\n",
       "    .dataframe tbody tr th {\n",
       "        vertical-align: top;\n",
       "    }\n",
       "\n",
       "    .dataframe thead th {\n",
       "        text-align: right;\n",
       "    }\n",
       "</style>\n",
       "<table border=\"1\" class=\"dataframe\">\n",
       "  <thead>\n",
       "    <tr style=\"text-align: right;\">\n",
       "      <th></th>\n",
       "      <th>dates</th>\n",
       "      <th>price_per_sku</th>\n",
       "      <th>num_purchases</th>\n",
       "      <th>year</th>\n",
       "      <th>month</th>\n",
       "      <th>week</th>\n",
       "      <th>dow</th>\n",
       "      <th>SKU_11050</th>\n",
       "      <th>SKU_17812</th>\n",
       "      <th>SKU_19632</th>\n",
       "      <th>...</th>\n",
       "      <th>SKU_69997</th>\n",
       "      <th>SKU_72784</th>\n",
       "      <th>SKU_78833</th>\n",
       "      <th>SKU_80308</th>\n",
       "      <th>SKU_80631</th>\n",
       "      <th>SKU_83329</th>\n",
       "      <th>SKU_84395</th>\n",
       "      <th>SKU_89272</th>\n",
       "      <th>SKU_90611</th>\n",
       "      <th>SKU_98255</th>\n",
       "    </tr>\n",
       "  </thead>\n",
       "  <tbody>\n",
       "    <tr>\n",
       "      <th>0</th>\n",
       "      <td>2018-04-20</td>\n",
       "      <td>422.975</td>\n",
       "      <td>3</td>\n",
       "      <td>2018</td>\n",
       "      <td>4</td>\n",
       "      <td>16</td>\n",
       "      <td>4</td>\n",
       "      <td>False</td>\n",
       "      <td>False</td>\n",
       "      <td>False</td>\n",
       "      <td>...</td>\n",
       "      <td>False</td>\n",
       "      <td>False</td>\n",
       "      <td>False</td>\n",
       "      <td>False</td>\n",
       "      <td>False</td>\n",
       "      <td>False</td>\n",
       "      <td>False</td>\n",
       "      <td>False</td>\n",
       "      <td>False</td>\n",
       "      <td>False</td>\n",
       "    </tr>\n",
       "    <tr>\n",
       "      <th>1</th>\n",
       "      <td>2018-04-24</td>\n",
       "      <td>429.275</td>\n",
       "      <td>3</td>\n",
       "      <td>2018</td>\n",
       "      <td>4</td>\n",
       "      <td>17</td>\n",
       "      <td>1</td>\n",
       "      <td>False</td>\n",
       "      <td>False</td>\n",
       "      <td>False</td>\n",
       "      <td>...</td>\n",
       "      <td>False</td>\n",
       "      <td>False</td>\n",
       "      <td>False</td>\n",
       "      <td>False</td>\n",
       "      <td>False</td>\n",
       "      <td>False</td>\n",
       "      <td>False</td>\n",
       "      <td>False</td>\n",
       "      <td>False</td>\n",
       "      <td>False</td>\n",
       "    </tr>\n",
       "    <tr>\n",
       "      <th>2</th>\n",
       "      <td>2018-04-27</td>\n",
       "      <td>435.100</td>\n",
       "      <td>3</td>\n",
       "      <td>2018</td>\n",
       "      <td>4</td>\n",
       "      <td>17</td>\n",
       "      <td>4</td>\n",
       "      <td>False</td>\n",
       "      <td>False</td>\n",
       "      <td>False</td>\n",
       "      <td>...</td>\n",
       "      <td>False</td>\n",
       "      <td>False</td>\n",
       "      <td>False</td>\n",
       "      <td>False</td>\n",
       "      <td>False</td>\n",
       "      <td>False</td>\n",
       "      <td>False</td>\n",
       "      <td>False</td>\n",
       "      <td>False</td>\n",
       "      <td>False</td>\n",
       "    </tr>\n",
       "    <tr>\n",
       "      <th>3</th>\n",
       "      <td>2018-04-30</td>\n",
       "      <td>435.100</td>\n",
       "      <td>1</td>\n",
       "      <td>2018</td>\n",
       "      <td>4</td>\n",
       "      <td>18</td>\n",
       "      <td>0</td>\n",
       "      <td>False</td>\n",
       "      <td>False</td>\n",
       "      <td>False</td>\n",
       "      <td>...</td>\n",
       "      <td>False</td>\n",
       "      <td>False</td>\n",
       "      <td>False</td>\n",
       "      <td>False</td>\n",
       "      <td>False</td>\n",
       "      <td>False</td>\n",
       "      <td>False</td>\n",
       "      <td>False</td>\n",
       "      <td>False</td>\n",
       "      <td>False</td>\n",
       "    </tr>\n",
       "    <tr>\n",
       "      <th>4</th>\n",
       "      <td>2018-05-03</td>\n",
       "      <td>440.950</td>\n",
       "      <td>2</td>\n",
       "      <td>2018</td>\n",
       "      <td>5</td>\n",
       "      <td>18</td>\n",
       "      <td>3</td>\n",
       "      <td>False</td>\n",
       "      <td>False</td>\n",
       "      <td>False</td>\n",
       "      <td>...</td>\n",
       "      <td>False</td>\n",
       "      <td>False</td>\n",
       "      <td>False</td>\n",
       "      <td>False</td>\n",
       "      <td>False</td>\n",
       "      <td>False</td>\n",
       "      <td>False</td>\n",
       "      <td>False</td>\n",
       "      <td>False</td>\n",
       "      <td>False</td>\n",
       "    </tr>\n",
       "  </tbody>\n",
       "</table>\n",
       "<p>5 rows × 31 columns</p>\n",
       "</div>"
      ],
      "text/plain": [
       "       dates  price_per_sku  num_purchases  year  month  week  dow  SKU_11050  \\\n",
       "0 2018-04-20        422.975              3  2018      4    16    4      False   \n",
       "1 2018-04-24        429.275              3  2018      4    17    1      False   \n",
       "2 2018-04-27        435.100              3  2018      4    17    4      False   \n",
       "3 2018-04-30        435.100              1  2018      4    18    0      False   \n",
       "4 2018-05-03        440.950              2  2018      5    18    3      False   \n",
       "\n",
       "   SKU_17812  SKU_19632  ...  SKU_69997  SKU_72784  SKU_78833  SKU_80308  \\\n",
       "0      False      False  ...      False      False      False      False   \n",
       "1      False      False  ...      False      False      False      False   \n",
       "2      False      False  ...      False      False      False      False   \n",
       "3      False      False  ...      False      False      False      False   \n",
       "4      False      False  ...      False      False      False      False   \n",
       "\n",
       "   SKU_80631  SKU_83329  SKU_84395  SKU_89272  SKU_90611  SKU_98255  \n",
       "0      False      False      False      False      False      False  \n",
       "1      False      False      False      False      False      False  \n",
       "2      False      False      False      False      False      False  \n",
       "3      False      False      False      False      False      False  \n",
       "4      False      False      False      False      False      False  \n",
       "\n",
       "[5 rows x 31 columns]"
      ]
     },
     "execution_count": 19,
     "metadata": {},
     "output_type": "execute_result"
    }
   ],
   "source": [
    "train = pd.get_dummies(groups, columns=['SKU'], drop_first=True)\n",
    "test = pd.get_dummies(answer, columns=['SKU'], drop_first=True)\n",
    "train.head()"
   ]
  },
  {
   "cell_type": "code",
   "execution_count": 20,
   "id": "c5556327",
   "metadata": {},
   "outputs": [
    {
     "data": {
      "text/html": [
       "<div>\n",
       "<style scoped>\n",
       "    .dataframe tbody tr th:only-of-type {\n",
       "        vertical-align: middle;\n",
       "    }\n",
       "\n",
       "    .dataframe tbody tr th {\n",
       "        vertical-align: top;\n",
       "    }\n",
       "\n",
       "    .dataframe thead th {\n",
       "        text-align: right;\n",
       "    }\n",
       "</style>\n",
       "<table border=\"1\" class=\"dataframe\">\n",
       "  <thead>\n",
       "    <tr style=\"text-align: right;\">\n",
       "      <th></th>\n",
       "      <th>dates</th>\n",
       "      <th>price_per_sku</th>\n",
       "      <th>year</th>\n",
       "      <th>month</th>\n",
       "      <th>week</th>\n",
       "      <th>dow</th>\n",
       "      <th>SKU_11050</th>\n",
       "      <th>SKU_17812</th>\n",
       "      <th>SKU_19632</th>\n",
       "      <th>SKU_24125</th>\n",
       "      <th>...</th>\n",
       "      <th>SKU_69997</th>\n",
       "      <th>SKU_72784</th>\n",
       "      <th>SKU_78833</th>\n",
       "      <th>SKU_80308</th>\n",
       "      <th>SKU_80631</th>\n",
       "      <th>SKU_83329</th>\n",
       "      <th>SKU_84395</th>\n",
       "      <th>SKU_89272</th>\n",
       "      <th>SKU_90611</th>\n",
       "      <th>SKU_98255</th>\n",
       "    </tr>\n",
       "  </thead>\n",
       "  <tbody>\n",
       "    <tr>\n",
       "      <th>0</th>\n",
       "      <td>2019-04-10</td>\n",
       "      <td>450.200</td>\n",
       "      <td>2019</td>\n",
       "      <td>4</td>\n",
       "      <td>15</td>\n",
       "      <td>2</td>\n",
       "      <td>False</td>\n",
       "      <td>False</td>\n",
       "      <td>False</td>\n",
       "      <td>False</td>\n",
       "      <td>...</td>\n",
       "      <td>False</td>\n",
       "      <td>False</td>\n",
       "      <td>False</td>\n",
       "      <td>False</td>\n",
       "      <td>False</td>\n",
       "      <td>False</td>\n",
       "      <td>False</td>\n",
       "      <td>False</td>\n",
       "      <td>False</td>\n",
       "      <td>False</td>\n",
       "    </tr>\n",
       "    <tr>\n",
       "      <th>1</th>\n",
       "      <td>2019-04-11</td>\n",
       "      <td>449.925</td>\n",
       "      <td>2019</td>\n",
       "      <td>4</td>\n",
       "      <td>15</td>\n",
       "      <td>3</td>\n",
       "      <td>False</td>\n",
       "      <td>False</td>\n",
       "      <td>False</td>\n",
       "      <td>False</td>\n",
       "      <td>...</td>\n",
       "      <td>False</td>\n",
       "      <td>False</td>\n",
       "      <td>False</td>\n",
       "      <td>False</td>\n",
       "      <td>False</td>\n",
       "      <td>False</td>\n",
       "      <td>False</td>\n",
       "      <td>False</td>\n",
       "      <td>False</td>\n",
       "      <td>False</td>\n",
       "    </tr>\n",
       "    <tr>\n",
       "      <th>2</th>\n",
       "      <td>2019-04-12</td>\n",
       "      <td>447.575</td>\n",
       "      <td>2019</td>\n",
       "      <td>4</td>\n",
       "      <td>15</td>\n",
       "      <td>4</td>\n",
       "      <td>False</td>\n",
       "      <td>False</td>\n",
       "      <td>False</td>\n",
       "      <td>False</td>\n",
       "      <td>...</td>\n",
       "      <td>False</td>\n",
       "      <td>False</td>\n",
       "      <td>False</td>\n",
       "      <td>False</td>\n",
       "      <td>False</td>\n",
       "      <td>False</td>\n",
       "      <td>False</td>\n",
       "      <td>False</td>\n",
       "      <td>False</td>\n",
       "      <td>False</td>\n",
       "    </tr>\n",
       "    <tr>\n",
       "      <th>3</th>\n",
       "      <td>2019-04-13</td>\n",
       "      <td>448.400</td>\n",
       "      <td>2019</td>\n",
       "      <td>4</td>\n",
       "      <td>15</td>\n",
       "      <td>5</td>\n",
       "      <td>False</td>\n",
       "      <td>False</td>\n",
       "      <td>False</td>\n",
       "      <td>False</td>\n",
       "      <td>...</td>\n",
       "      <td>False</td>\n",
       "      <td>False</td>\n",
       "      <td>False</td>\n",
       "      <td>False</td>\n",
       "      <td>False</td>\n",
       "      <td>False</td>\n",
       "      <td>False</td>\n",
       "      <td>False</td>\n",
       "      <td>False</td>\n",
       "      <td>False</td>\n",
       "    </tr>\n",
       "    <tr>\n",
       "      <th>4</th>\n",
       "      <td>2019-04-16</td>\n",
       "      <td>446.525</td>\n",
       "      <td>2019</td>\n",
       "      <td>4</td>\n",
       "      <td>16</td>\n",
       "      <td>1</td>\n",
       "      <td>False</td>\n",
       "      <td>False</td>\n",
       "      <td>False</td>\n",
       "      <td>False</td>\n",
       "      <td>...</td>\n",
       "      <td>False</td>\n",
       "      <td>False</td>\n",
       "      <td>False</td>\n",
       "      <td>False</td>\n",
       "      <td>False</td>\n",
       "      <td>False</td>\n",
       "      <td>False</td>\n",
       "      <td>False</td>\n",
       "      <td>False</td>\n",
       "      <td>False</td>\n",
       "    </tr>\n",
       "  </tbody>\n",
       "</table>\n",
       "<p>5 rows × 30 columns</p>\n",
       "</div>"
      ],
      "text/plain": [
       "       dates  price_per_sku  year  month  week  dow  SKU_11050  SKU_17812  \\\n",
       "0 2019-04-10        450.200  2019      4    15    2      False      False   \n",
       "1 2019-04-11        449.925  2019      4    15    3      False      False   \n",
       "2 2019-04-12        447.575  2019      4    15    4      False      False   \n",
       "3 2019-04-13        448.400  2019      4    15    5      False      False   \n",
       "4 2019-04-16        446.525  2019      4    16    1      False      False   \n",
       "\n",
       "   SKU_19632  SKU_24125  ...  SKU_69997  SKU_72784  SKU_78833  SKU_80308  \\\n",
       "0      False      False  ...      False      False      False      False   \n",
       "1      False      False  ...      False      False      False      False   \n",
       "2      False      False  ...      False      False      False      False   \n",
       "3      False      False  ...      False      False      False      False   \n",
       "4      False      False  ...      False      False      False      False   \n",
       "\n",
       "   SKU_80631  SKU_83329  SKU_84395  SKU_89272  SKU_90611  SKU_98255  \n",
       "0      False      False      False      False      False      False  \n",
       "1      False      False      False      False      False      False  \n",
       "2      False      False      False      False      False      False  \n",
       "3      False      False      False      False      False      False  \n",
       "4      False      False      False      False      False      False  \n",
       "\n",
       "[5 rows x 30 columns]"
      ]
     },
     "execution_count": 20,
     "metadata": {},
     "output_type": "execute_result"
    }
   ],
   "source": [
    "test.head()"
   ]
  },
  {
   "cell_type": "markdown",
   "id": "a27996ee",
   "metadata": {},
   "source": [
    "### Обучим линейную регрессию. 2 модели по условию задачи, первая будет предсказывать количество покупок, а вторая - цену товара за единицу"
   ]
  },
  {
   "cell_type": "code",
   "execution_count": 21,
   "id": "3aa1de10",
   "metadata": {},
   "outputs": [],
   "source": [
    "model1 = LinearRegression()\n",
    "model1.fit(train.drop([\"dates\", \"price_per_sku\", \"num_purchases\"], axis=1), train[\"num_purchases\"])\n",
    "cols_for_model1 = model1.feature_names_in_\n",
    "\n",
    "model2 = LinearRegression()\n",
    "model2.fit(train.drop([\"dates\", \"price_per_sku\"], axis=1), train[\"price_per_sku\"])\n",
    "cols_for_model2 = model2.feature_names_in_"
   ]
  },
  {
   "cell_type": "code",
   "execution_count": 22,
   "id": "a5125513",
   "metadata": {},
   "outputs": [
    {
     "data": {
      "text/html": [
       "<div>\n",
       "<style scoped>\n",
       "    .dataframe tbody tr th:only-of-type {\n",
       "        vertical-align: middle;\n",
       "    }\n",
       "\n",
       "    .dataframe tbody tr th {\n",
       "        vertical-align: top;\n",
       "    }\n",
       "\n",
       "    .dataframe thead th {\n",
       "        text-align: right;\n",
       "    }\n",
       "</style>\n",
       "<table border=\"1\" class=\"dataframe\">\n",
       "  <thead>\n",
       "    <tr style=\"text-align: right;\">\n",
       "      <th></th>\n",
       "      <th>Feature name</th>\n",
       "      <th>Weight</th>\n",
       "    </tr>\n",
       "  </thead>\n",
       "  <tbody>\n",
       "    <tr>\n",
       "      <th>0</th>\n",
       "      <td>num_purchases</td>\n",
       "      <td>-1.253725</td>\n",
       "    </tr>\n",
       "    <tr>\n",
       "      <th>1</th>\n",
       "      <td>year</td>\n",
       "      <td>3.000021</td>\n",
       "    </tr>\n",
       "    <tr>\n",
       "      <th>2</th>\n",
       "      <td>month</td>\n",
       "      <td>0.246335</td>\n",
       "    </tr>\n",
       "    <tr>\n",
       "      <th>3</th>\n",
       "      <td>week</td>\n",
       "      <td>0.050151</td>\n",
       "    </tr>\n",
       "    <tr>\n",
       "      <th>4</th>\n",
       "      <td>dow</td>\n",
       "      <td>0.000521</td>\n",
       "    </tr>\n",
       "    <tr>\n",
       "      <th>5</th>\n",
       "      <td>SKU_11050</td>\n",
       "      <td>7.816897</td>\n",
       "    </tr>\n",
       "    <tr>\n",
       "      <th>6</th>\n",
       "      <td>SKU_17812</td>\n",
       "      <td>-30.856540</td>\n",
       "    </tr>\n",
       "    <tr>\n",
       "      <th>7</th>\n",
       "      <td>SKU_19632</td>\n",
       "      <td>53.634284</td>\n",
       "    </tr>\n",
       "    <tr>\n",
       "      <th>8</th>\n",
       "      <td>SKU_24125</td>\n",
       "      <td>9.343337</td>\n",
       "    </tr>\n",
       "    <tr>\n",
       "      <th>9</th>\n",
       "      <td>SKU_32950</td>\n",
       "      <td>348.858676</td>\n",
       "    </tr>\n",
       "    <tr>\n",
       "      <th>10</th>\n",
       "      <td>SKU_36096</td>\n",
       "      <td>35.184709</td>\n",
       "    </tr>\n",
       "    <tr>\n",
       "      <th>11</th>\n",
       "      <td>SKU_38767</td>\n",
       "      <td>-28.997479</td>\n",
       "    </tr>\n",
       "    <tr>\n",
       "      <th>12</th>\n",
       "      <td>SKU_43678</td>\n",
       "      <td>47.297297</td>\n",
       "    </tr>\n",
       "    <tr>\n",
       "      <th>13</th>\n",
       "      <td>SKU_49661</td>\n",
       "      <td>61.778167</td>\n",
       "    </tr>\n",
       "    <tr>\n",
       "      <th>14</th>\n",
       "      <td>SKU_54404</td>\n",
       "      <td>-14.739950</td>\n",
       "    </tr>\n",
       "    <tr>\n",
       "      <th>15</th>\n",
       "      <td>SKU_57561</td>\n",
       "      <td>-2.810271</td>\n",
       "    </tr>\n",
       "    <tr>\n",
       "      <th>16</th>\n",
       "      <td>SKU_60870</td>\n",
       "      <td>14.251447</td>\n",
       "    </tr>\n",
       "    <tr>\n",
       "      <th>17</th>\n",
       "      <td>SKU_64619</td>\n",
       "      <td>45.010972</td>\n",
       "    </tr>\n",
       "    <tr>\n",
       "      <th>18</th>\n",
       "      <td>SKU_68211</td>\n",
       "      <td>68.920693</td>\n",
       "    </tr>\n",
       "    <tr>\n",
       "      <th>19</th>\n",
       "      <td>SKU_69997</td>\n",
       "      <td>31.762059</td>\n",
       "    </tr>\n",
       "    <tr>\n",
       "      <th>20</th>\n",
       "      <td>SKU_72784</td>\n",
       "      <td>29.022211</td>\n",
       "    </tr>\n",
       "    <tr>\n",
       "      <th>21</th>\n",
       "      <td>SKU_78833</td>\n",
       "      <td>200.128012</td>\n",
       "    </tr>\n",
       "    <tr>\n",
       "      <th>22</th>\n",
       "      <td>SKU_80308</td>\n",
       "      <td>16.378435</td>\n",
       "    </tr>\n",
       "    <tr>\n",
       "      <th>23</th>\n",
       "      <td>SKU_80631</td>\n",
       "      <td>-14.788794</td>\n",
       "    </tr>\n",
       "    <tr>\n",
       "      <th>24</th>\n",
       "      <td>SKU_83329</td>\n",
       "      <td>-12.543632</td>\n",
       "    </tr>\n",
       "    <tr>\n",
       "      <th>25</th>\n",
       "      <td>SKU_84395</td>\n",
       "      <td>38.991289</td>\n",
       "    </tr>\n",
       "    <tr>\n",
       "      <th>26</th>\n",
       "      <td>SKU_89272</td>\n",
       "      <td>20.357906</td>\n",
       "    </tr>\n",
       "    <tr>\n",
       "      <th>27</th>\n",
       "      <td>SKU_90611</td>\n",
       "      <td>-13.421788</td>\n",
       "    </tr>\n",
       "    <tr>\n",
       "      <th>28</th>\n",
       "      <td>SKU_98255</td>\n",
       "      <td>-31.785342</td>\n",
       "    </tr>\n",
       "  </tbody>\n",
       "</table>\n",
       "</div>"
      ],
      "text/plain": [
       "     Feature name      Weight\n",
       "0   num_purchases   -1.253725\n",
       "1            year    3.000021\n",
       "2           month    0.246335\n",
       "3            week    0.050151\n",
       "4             dow    0.000521\n",
       "5       SKU_11050    7.816897\n",
       "6       SKU_17812  -30.856540\n",
       "7       SKU_19632   53.634284\n",
       "8       SKU_24125    9.343337\n",
       "9       SKU_32950  348.858676\n",
       "10      SKU_36096   35.184709\n",
       "11      SKU_38767  -28.997479\n",
       "12      SKU_43678   47.297297\n",
       "13      SKU_49661   61.778167\n",
       "14      SKU_54404  -14.739950\n",
       "15      SKU_57561   -2.810271\n",
       "16      SKU_60870   14.251447\n",
       "17      SKU_64619   45.010972\n",
       "18      SKU_68211   68.920693\n",
       "19      SKU_69997   31.762059\n",
       "20      SKU_72784   29.022211\n",
       "21      SKU_78833  200.128012\n",
       "22      SKU_80308   16.378435\n",
       "23      SKU_80631  -14.788794\n",
       "24      SKU_83329  -12.543632\n",
       "25      SKU_84395   38.991289\n",
       "26      SKU_89272   20.357906\n",
       "27      SKU_90611  -13.421788\n",
       "28      SKU_98255  -31.785342"
      ]
     },
     "execution_count": 22,
     "metadata": {},
     "output_type": "execute_result"
    }
   ],
   "source": [
    "# Посмотрим на влияние фичей на результат\n",
    "pd.concat([pd.Series(model2.feature_names_in_, name=\"Feature name\"), pd.Series(model2.coef_, name=\"Weight\")], axis=1)"
   ]
  },
  {
   "cell_type": "code",
   "execution_count": 23,
   "id": "dbace26b",
   "metadata": {},
   "outputs": [
    {
     "data": {
      "text/plain": [
       "0.9951124744604237"
      ]
     },
     "execution_count": 23,
     "metadata": {},
     "output_type": "execute_result"
    }
   ],
   "source": [
    "test[\"num_purchases\"] = model1.predict(test[cols_for_model1]).round(0)\n",
    "test[\"predicted_price\"] = model2.predict(test[cols_for_model2]).round(3)\n",
    "r2_score(test[\"price_per_sku\"], test[\"predicted_price\"])"
   ]
  },
  {
   "cell_type": "code",
   "execution_count": 24,
   "id": "7b952e96",
   "metadata": {},
   "outputs": [
    {
     "data": {
      "text/plain": [
       "5.413471651796095"
      ]
     },
     "execution_count": 24,
     "metadata": {},
     "output_type": "execute_result"
    }
   ],
   "source": [
    "root_mean_squared_error(test[\"price_per_sku\"], test[\"predicted_price\"])"
   ]
  },
  {
   "cell_type": "markdown",
   "id": "e369034f",
   "metadata": {},
   "source": [
    "### Полученный результат подходит для решения задачи, однако посмотрим на результат других регрессионных моделей\n",
    "### Посмотрим на случайный лес"
   ]
  },
  {
   "cell_type": "code",
   "execution_count": 25,
   "id": "c620e7db",
   "metadata": {},
   "outputs": [],
   "source": [
    "from sklearn.ensemble import RandomForestRegressor\n",
    "\n",
    "model1 = RandomForestRegressor(n_estimators=100, random_state=42)\n",
    "model1.fit(train.drop([\"dates\", \"price_per_sku\", \"num_purchases\"], axis=1), train[\"num_purchases\"])\n",
    "cols_for_model1 = model1.feature_names_in_\n",
    "\n",
    "\n",
    "model2 = RandomForestRegressor(n_estimators=100, random_state=42)\n",
    "model2.fit(train.drop([\"dates\", \"price_per_sku\"], axis=1), train[\"price_per_sku\"])\n",
    "cols_for_model2 = model2.feature_names_in_"
   ]
  },
  {
   "cell_type": "code",
   "execution_count": 26,
   "id": "59410b5e",
   "metadata": {},
   "outputs": [
    {
     "data": {
      "text/plain": [
       "0.9972663939396945"
      ]
     },
     "execution_count": 26,
     "metadata": {},
     "output_type": "execute_result"
    }
   ],
   "source": [
    "test[\"num_purchases\"] = model1.predict(test[cols_for_model1]).round(0)\n",
    "test[\"predicted_price\"] = model2.predict(test[cols_for_model2]).round(3)\n",
    "r2_score(test[\"price_per_sku\"], test[\"predicted_price\"])"
   ]
  },
  {
   "cell_type": "code",
   "execution_count": 27,
   "id": "4136750f",
   "metadata": {},
   "outputs": [
    {
     "data": {
      "text/plain": [
       "4.048548173527318"
      ]
     },
     "execution_count": 27,
     "metadata": {},
     "output_type": "execute_result"
    }
   ],
   "source": [
    "root_mean_squared_error(test[\"price_per_sku\"], test[\"predicted_price\"])"
   ]
  },
  {
   "cell_type": "markdown",
   "id": "2269bd7e",
   "metadata": {},
   "source": [
    "### Теперь проверим catboost"
   ]
  },
  {
   "cell_type": "code",
   "execution_count": 28,
   "id": "94605685",
   "metadata": {},
   "outputs": [],
   "source": [
    "from catboost import CatBoostRegressor\n",
    "\n",
    "model1 = CatBoostRegressor(iterations=1000, max_depth=8, loss_function='RMSE', random_state=42)\n",
    "model1.fit(groups.drop([\"dates\", \"price_per_sku\", \"num_purchases\"], axis=1), \n",
    "           groups[\"num_purchases\"], \n",
    "           cat_features=['SKU'], verbose=False)\n",
    "cols_for_model1 = model1.feature_names_\n",
    "\n",
    "model2 = CatBoostRegressor(iterations=1000, max_depth=8, loss_function='RMSE', random_state=42)\n",
    "model2.fit(groups.drop([\"dates\", \"price_per_sku\"], axis=1), \n",
    "           groups[\"price_per_sku\"], \n",
    "           cat_features=['SKU'], verbose=False)\n",
    "cols_for_model2 = model2.feature_names_"
   ]
  },
  {
   "cell_type": "code",
   "execution_count": 29,
   "id": "b865bb80",
   "metadata": {},
   "outputs": [
    {
     "data": {
      "text/plain": [
       "0.99681064149675"
      ]
     },
     "execution_count": 29,
     "metadata": {},
     "output_type": "execute_result"
    }
   ],
   "source": [
    "answer[\"num_purchases\"] = model1.predict(answer[cols_for_model1]).round(0)\n",
    "answer[\"predicted_price\"] = model2.predict(answer[cols_for_model2]).round(3)\n",
    "r2_score(answer[\"price_per_sku\"], answer[\"predicted_price\"])"
   ]
  },
  {
   "cell_type": "code",
   "execution_count": 30,
   "id": "47199dad",
   "metadata": {},
   "outputs": [
    {
     "data": {
      "text/plain": [
       "4.373035638180869"
      ]
     },
     "execution_count": 30,
     "metadata": {},
     "output_type": "execute_result"
    }
   ],
   "source": [
    "root_mean_squared_error(answer[\"price_per_sku\"], answer[\"predicted_price\"])"
   ]
  },
  {
   "cell_type": "markdown",
   "id": "1151ae05",
   "metadata": {},
   "source": [
    "### Используем Decision Tree"
   ]
  },
  {
   "cell_type": "code",
   "execution_count": 31,
   "id": "a8318f9b",
   "metadata": {},
   "outputs": [],
   "source": [
    "from sklearn.tree import DecisionTreeRegressor\n",
    "\n",
    "model1 = DecisionTreeRegressor(random_state=42)\n",
    "model1.fit(train.drop([\"dates\", \"price_per_sku\", \"num_purchases\"], axis=1), train[\"num_purchases\"])\n",
    "cols_for_model1 = model1.feature_names_in_\n",
    "\n",
    "model2 = DecisionTreeRegressor(random_state=42)\n",
    "model2.fit(train.drop([\"dates\", \"price_per_sku\"], axis=1), train[\"price_per_sku\"])\n",
    "cols_for_model2 = model2.feature_names_in_"
   ]
  },
  {
   "cell_type": "code",
   "execution_count": 32,
   "id": "6756e4da",
   "metadata": {},
   "outputs": [
    {
     "data": {
      "text/plain": [
       "0.9968709936273163"
      ]
     },
     "execution_count": 32,
     "metadata": {},
     "output_type": "execute_result"
    }
   ],
   "source": [
    "test[\"num_purchases\"] = model1.predict(test[cols_for_model1]).round(0)\n",
    "test[\"predicted_price\"] = model2.predict(test[cols_for_model2]).round(3)\n",
    "r2_score(test[\"price_per_sku\"], test[\"predicted_price\"])"
   ]
  },
  {
   "cell_type": "code",
   "execution_count": 33,
   "id": "5bca0d5c",
   "metadata": {},
   "outputs": [
    {
     "data": {
      "text/plain": [
       "4.331462619775712"
      ]
     },
     "execution_count": 33,
     "metadata": {},
     "output_type": "execute_result"
    }
   ],
   "source": [
    "root_mean_squared_error(test[\"price_per_sku\"], test[\"predicted_price\"])"
   ]
  },
  {
   "cell_type": "markdown",
   "id": "03e2d7f9",
   "metadata": {},
   "source": [
    "### Напоследок попробуем Deep Learning. Создадим простую нейросеть"
   ]
  },
  {
   "cell_type": "code",
   "execution_count": 34,
   "id": "afe94efc",
   "metadata": {},
   "outputs": [
    {
     "name": "stdout",
     "output_type": "stream",
     "text": [
      "torch version: 2.3.1+cu121\n"
     ]
    }
   ],
   "source": [
    "import torch\n",
    "import torch.nn as nn\n",
    "from torch.utils.data import TensorDataset, Dataset, DataLoader\n",
    "from torch.optim import Adam\n",
    "\n",
    "print(f\"torch version: {torch.__version__}\")"
   ]
  },
  {
   "cell_type": "code",
   "execution_count": 35,
   "id": "6e3c92a3",
   "metadata": {},
   "outputs": [
    {
     "name": "stdout",
     "output_type": "stream",
     "text": [
      "Количество фичей для датасета №1: 28\n",
      "Количество фичей для датасета №2: 29\n"
     ]
    }
   ],
   "source": [
    "# Преобразуем данные в тензоры\n",
    "\n",
    "# для начала создадим функцию, которая будет принимать датафрейм, приводить все значения в нем к одному типу (в данном случае можно привести к int32) и возращать нам\n",
    "def process_df(temp_df: pd.DataFrame):\n",
    "    bool_columns = temp_df.select_dtypes(include=['bool']).columns\n",
    "    temp_df[bool_columns] = temp_df[bool_columns].astype(int)\n",
    "    temp_df[\"week\"] = temp_df[\"week\"].astype(int)\n",
    "    return temp_df\n",
    "\n",
    "# обрабатываем train датасет для предсказания количества покупок\n",
    "df = process_df(train.drop([\"dates\", \"price_per_sku\", \"num_purchases\"], axis=1))\n",
    "# Теперь создаем из получившегося датафрейма тензор с фичами\n",
    "X = torch.tensor(df.values, dtype=torch.float32)\n",
    "y = torch.tensor(train[\"num_purchases\"].values, dtype=torch.float32)\n",
    "print(f\"Количество фичей для датасета №1: {len(X[0])}\")\n",
    "\n",
    "# Создаем TensorDataset и DataLoader\n",
    "train_dataset1 = TensorDataset(X, y)\n",
    "train_loader1 = DataLoader(train_dataset1, batch_size=100, shuffle=True)\n",
    "\n",
    "# теперь обработаем train датасет для предсказания цены, создадим также датасет и лоадер\n",
    "# сначала получим список колонок и переместим num_purchases в конец (так как мы потом будем соединять получившееся предсказание от первой модели, и оно будет последней колонкой)\n",
    "cols = train.drop([\"dates\", \"price_per_sku\"], axis=1).columns.tolist()\n",
    "cols = cols[1:] + [cols[0]]\n",
    "df = process_df(train[cols].copy())\n",
    "X = torch.tensor(df.values, dtype=torch.float32)\n",
    "y = torch.tensor(train[\"price_per_sku\"].values, dtype=torch.float32)\n",
    "print(f\"Количество фичей для датасета №2: {len(X[0])}\")\n",
    "train_dataset2 = TensorDataset(X, y)\n",
    "train_loader2 = DataLoader(train_dataset2, batch_size=100, shuffle=True)\n",
    "\n",
    "# определим функцию для обучения модели\n",
    "def train_model(model: nn.Module, optim: torch.optim.Optimizer, criterion: nn.Module, loader: DataLoader, num_epochs: int):\n",
    "    for _ in range(num_epochs):\n",
    "        for batch in loader:\n",
    "            optim.zero_grad()\n",
    "            X, y = batch\n",
    "            outputs = model(X)\n",
    "            loss = criterion(outputs.squeeze(1), y)\n",
    "            loss.backward()\n",
    "            optim.step()"
   ]
  },
  {
   "cell_type": "code",
   "execution_count": 38,
   "id": "9134027f",
   "metadata": {},
   "outputs": [],
   "source": [
    "class sku_model(nn.Module):\n",
    "    def __init__(self, in_features):\n",
    "        super().__init__()\n",
    "        self.pipeline = nn.Sequential(\n",
    "            nn.Linear(in_features, 64),\n",
    "            nn.ReLU(inplace=True),\n",
    "            nn.Linear(64, 1),\n",
    "        )\n",
    "    \n",
    "    def forward(self, x: torch.Tensor) -> torch.Tensor:\n",
    "        return self.pipeline(x)\n",
    "\n",
    "# создаем модель 1 для предсказания количества покупок\n",
    "model1 = sku_model(in_features=28)\n",
    "optimizer = Adam(model1.parameters(), lr=0.02)\n",
    "criterion = nn.MSELoss()\n",
    "# тренируем модель 1\n",
    "train_model(model1, optimizer, criterion, train_loader1, 60)\n",
    "# создаем модель 2 для предсказания цены товара\n",
    "model2 = sku_model(in_features=29)\n",
    "optimizer = Adam(model2.parameters(), lr=0.02)\n",
    "train_model(model2, optimizer, criterion, train_loader2, 60)"
   ]
  },
  {
   "cell_type": "code",
   "execution_count": 39,
   "id": "e5e71530",
   "metadata": {},
   "outputs": [
    {
     "data": {
      "text/plain": [
       "7.170344284781934"
      ]
     },
     "execution_count": 39,
     "metadata": {},
     "output_type": "execute_result"
    }
   ],
   "source": [
    "# перед преобразованием тестового датафрейма удалим старые предикты\n",
    "test = test.drop([\"num_purchases\", \"predicted_price\"], axis=1)\n",
    "# преобразовываем тестовый датафрейм\n",
    "df = process_df(test.drop([\"dates\", \"price_per_sku\"], axis=1))\n",
    "X = torch.tensor(df.values, dtype=torch.float32)\n",
    "# предсказываем количество товара\n",
    "with torch.no_grad():\n",
    "    result_purchase = torch.round(model1(X))\n",
    "\n",
    "# добавляет полученные предсказания количества товара к тестовым данным\n",
    "X = torch.concat((X, result_purchase), dim=1)\n",
    "# предсказываем стоимость товара\n",
    "with torch.no_grad():\n",
    "    result_price = torch.round(model2(X), decimals=3)\n",
    "\n",
    "test[\"num_purchases\"] = result_purchase.numpy()\n",
    "test[\"predicted_price\"] = result_price.numpy()\n",
    "\n",
    "root_mean_squared_error(test[\"price_per_sku\"], test[\"predicted_price\"])"
   ]
  },
  {
   "cell_type": "markdown",
   "id": "db3bd520",
   "metadata": {},
   "source": [
    "### Итог: задание решается разными видами регрессий даже без подбора параметров. Также задание можно решить через простую нейросеть, в которой однако необходимо подбирать параметры"
   ]
  }
 ],
 "metadata": {
  "kernelspec": {
   "display_name": "Python 3",
   "language": "python",
   "name": "python3"
  },
  "language_info": {
   "codemirror_mode": {
    "name": "ipython",
    "version": 3
   },
   "file_extension": ".py",
   "mimetype": "text/x-python",
   "name": "python",
   "nbconvert_exporter": "python",
   "pygments_lexer": "ipython3",
   "version": "3.11.7"
  }
 },
 "nbformat": 4,
 "nbformat_minor": 5
}
